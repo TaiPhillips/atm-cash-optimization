{
 "cells": [
  {
   "cell_type": "markdown",
   "metadata": {},
   "source": [
    "# CSV Splitter"
   ]
  },
  {
   "cell_type": "markdown",
   "metadata": {},
   "source": [
    "Agus Gunawan, Holy Lovenia"
   ]
  },
  {
   "cell_type": "markdown",
   "metadata": {},
   "source": [
    "## Importing dataset"
   ]
  },
  {
   "cell_type": "code",
   "execution_count": 77,
   "metadata": {},
   "outputs": [],
   "source": [
    "from datetime import datetime\n",
    "from pandas import read_csv"
   ]
  },
  {
   "cell_type": "markdown",
   "metadata": {},
   "source": [
    "### Read train data"
   ]
  },
  {
   "cell_type": "code",
   "execution_count": 29,
   "metadata": {},
   "outputs": [],
   "source": [
    "date_parser = lambda dates: datetime.strptime(dates, '%Y-%m-%d')"
   ]
  },
  {
   "cell_type": "code",
   "execution_count": 30,
   "metadata": {},
   "outputs": [
    {
     "data": {
      "text/html": [
       "<div>\n",
       "<style scoped>\n",
       "    .dataframe tbody tr th:only-of-type {\n",
       "        vertical-align: middle;\n",
       "    }\n",
       "\n",
       "    .dataframe tbody tr th {\n",
       "        vertical-align: top;\n",
       "    }\n",
       "\n",
       "    .dataframe thead th {\n",
       "        text-align: right;\n",
       "    }\n",
       "</style>\n",
       "<table border=\"1\" class=\"dataframe\">\n",
       "  <thead>\n",
       "    <tr style=\"text-align: right;\">\n",
       "      <th></th>\n",
       "      <th>X1</th>\n",
       "      <th>no. ATM</th>\n",
       "      <th>currency</th>\n",
       "      <th>saldo awal</th>\n",
       "      <th>Deliveries</th>\n",
       "      <th>Returns</th>\n",
       "      <th>unplanned_deliveries</th>\n",
       "      <th>unplanned_returns</th>\n",
       "      <th>deposit</th>\n",
       "      <th>Pre.Withdrawals</th>\n",
       "      <th>Withdrawals</th>\n",
       "      <th>saldo akhir</th>\n",
       "      <th>Trips</th>\n",
       "      <th>Balance.Cost</th>\n",
       "      <th>Carrier.Cost</th>\n",
       "      <th>uang_idle</th>\n",
       "    </tr>\n",
       "    <tr>\n",
       "      <th>date</th>\n",
       "      <th></th>\n",
       "      <th></th>\n",
       "      <th></th>\n",
       "      <th></th>\n",
       "      <th></th>\n",
       "      <th></th>\n",
       "      <th></th>\n",
       "      <th></th>\n",
       "      <th></th>\n",
       "      <th></th>\n",
       "      <th></th>\n",
       "      <th></th>\n",
       "      <th></th>\n",
       "      <th></th>\n",
       "      <th></th>\n",
       "      <th></th>\n",
       "    </tr>\n",
       "  </thead>\n",
       "  <tbody>\n",
       "    <tr>\n",
       "      <th>2018-01-01</th>\n",
       "      <td>1</td>\n",
       "      <td>K1</td>\n",
       "      <td>IDR</td>\n",
       "      <td>275600000</td>\n",
       "      <td>0</td>\n",
       "      <td>0</td>\n",
       "      <td>0</td>\n",
       "      <td>0</td>\n",
       "      <td>0</td>\n",
       "      <td>0</td>\n",
       "      <td>78700000</td>\n",
       "      <td>196900000</td>\n",
       "      <td>0</td>\n",
       "      <td>32367</td>\n",
       "      <td>0</td>\n",
       "      <td>45304</td>\n",
       "    </tr>\n",
       "    <tr>\n",
       "      <th>2018-01-02</th>\n",
       "      <td>2</td>\n",
       "      <td>K1</td>\n",
       "      <td>IDR</td>\n",
       "      <td>196900000</td>\n",
       "      <td>460000000</td>\n",
       "      <td>146200000</td>\n",
       "      <td>0</td>\n",
       "      <td>0</td>\n",
       "      <td>0</td>\n",
       "      <td>50700000</td>\n",
       "      <td>112900000</td>\n",
       "      <td>397800000</td>\n",
       "      <td>1</td>\n",
       "      <td>65392</td>\n",
       "      <td>350000</td>\n",
       "      <td>32367</td>\n",
       "    </tr>\n",
       "    <tr>\n",
       "      <th>2018-01-03</th>\n",
       "      <td>3</td>\n",
       "      <td>K1</td>\n",
       "      <td>IDR</td>\n",
       "      <td>397800000</td>\n",
       "      <td>0</td>\n",
       "      <td>0</td>\n",
       "      <td>0</td>\n",
       "      <td>0</td>\n",
       "      <td>0</td>\n",
       "      <td>0</td>\n",
       "      <td>108700000</td>\n",
       "      <td>289100000</td>\n",
       "      <td>0</td>\n",
       "      <td>47523</td>\n",
       "      <td>0</td>\n",
       "      <td>65392</td>\n",
       "    </tr>\n",
       "    <tr>\n",
       "      <th>2018-01-04</th>\n",
       "      <td>4</td>\n",
       "      <td>K1</td>\n",
       "      <td>IDR</td>\n",
       "      <td>289100000</td>\n",
       "      <td>0</td>\n",
       "      <td>0</td>\n",
       "      <td>0</td>\n",
       "      <td>0</td>\n",
       "      <td>0</td>\n",
       "      <td>0</td>\n",
       "      <td>100700000</td>\n",
       "      <td>188400000</td>\n",
       "      <td>0</td>\n",
       "      <td>30970</td>\n",
       "      <td>0</td>\n",
       "      <td>47523</td>\n",
       "    </tr>\n",
       "    <tr>\n",
       "      <th>2018-01-05</th>\n",
       "      <td>5</td>\n",
       "      <td>K1</td>\n",
       "      <td>IDR</td>\n",
       "      <td>188400000</td>\n",
       "      <td>460000000</td>\n",
       "      <td>138000000</td>\n",
       "      <td>0</td>\n",
       "      <td>0</td>\n",
       "      <td>0</td>\n",
       "      <td>50400000</td>\n",
       "      <td>127750000</td>\n",
       "      <td>382650000</td>\n",
       "      <td>1</td>\n",
       "      <td>62901</td>\n",
       "      <td>350000</td>\n",
       "      <td>30970</td>\n",
       "    </tr>\n",
       "  </tbody>\n",
       "</table>\n",
       "</div>"
      ],
      "text/plain": [
       "            X1 no. ATM currency  saldo awal  Deliveries    Returns  \\\n",
       "date                                                                 \n",
       "2018-01-01   1      K1      IDR   275600000           0          0   \n",
       "2018-01-02   2      K1      IDR   196900000   460000000  146200000   \n",
       "2018-01-03   3      K1      IDR   397800000           0          0   \n",
       "2018-01-04   4      K1      IDR   289100000           0          0   \n",
       "2018-01-05   5      K1      IDR   188400000   460000000  138000000   \n",
       "\n",
       "            unplanned_deliveries  unplanned_returns  deposit  Pre.Withdrawals  \\\n",
       "date                                                                            \n",
       "2018-01-01                     0                  0        0                0   \n",
       "2018-01-02                     0                  0        0         50700000   \n",
       "2018-01-03                     0                  0        0                0   \n",
       "2018-01-04                     0                  0        0                0   \n",
       "2018-01-05                     0                  0        0         50400000   \n",
       "\n",
       "            Withdrawals  saldo akhir  Trips  Balance.Cost  Carrier.Cost  \\\n",
       "date                                                                      \n",
       "2018-01-01     78700000    196900000      0         32367             0   \n",
       "2018-01-02    112900000    397800000      1         65392        350000   \n",
       "2018-01-03    108700000    289100000      0         47523             0   \n",
       "2018-01-04    100700000    188400000      0         30970             0   \n",
       "2018-01-05    127750000    382650000      1         62901        350000   \n",
       "\n",
       "            uang_idle  \n",
       "date                   \n",
       "2018-01-01      45304  \n",
       "2018-01-02      32367  \n",
       "2018-01-03      65392  \n",
       "2018-01-04      47523  \n",
       "2018-01-05      30970  "
      ]
     },
     "execution_count": 30,
     "metadata": {},
     "output_type": "execute_result"
    }
   ],
   "source": [
    "train_data = read_csv('dataset/atm_train.csv', parse_dates=['date'], date_parser=date_parser, index_col='date')\n",
    "train_data.head()"
   ]
  },
  {
   "cell_type": "markdown",
   "metadata": {},
   "source": [
    "### Read test data"
   ]
  },
  {
   "cell_type": "code",
   "execution_count": 32,
   "metadata": {},
   "outputs": [],
   "source": [
    "date_parser = lambda dates: datetime.strptime(dates, '%d/%m/%Y')"
   ]
  },
  {
   "cell_type": "code",
   "execution_count": 33,
   "metadata": {},
   "outputs": [
    {
     "data": {
      "text/html": [
       "<div>\n",
       "<style scoped>\n",
       "    .dataframe tbody tr th:only-of-type {\n",
       "        vertical-align: middle;\n",
       "    }\n",
       "\n",
       "    .dataframe tbody tr th {\n",
       "        vertical-align: top;\n",
       "    }\n",
       "\n",
       "    .dataframe thead th {\n",
       "        text-align: right;\n",
       "    }\n",
       "</style>\n",
       "<table border=\"1\" class=\"dataframe\">\n",
       "  <thead>\n",
       "    <tr style=\"text-align: right;\">\n",
       "      <th></th>\n",
       "      <th>no. ATM</th>\n",
       "    </tr>\n",
       "    <tr>\n",
       "      <th>date</th>\n",
       "      <th></th>\n",
       "    </tr>\n",
       "  </thead>\n",
       "  <tbody>\n",
       "    <tr>\n",
       "      <th>2018-03-25</th>\n",
       "      <td>K1</td>\n",
       "    </tr>\n",
       "    <tr>\n",
       "      <th>2018-03-26</th>\n",
       "      <td>K1</td>\n",
       "    </tr>\n",
       "    <tr>\n",
       "      <th>2018-03-27</th>\n",
       "      <td>K1</td>\n",
       "    </tr>\n",
       "    <tr>\n",
       "      <th>2018-03-28</th>\n",
       "      <td>K1</td>\n",
       "    </tr>\n",
       "    <tr>\n",
       "      <th>2018-03-29</th>\n",
       "      <td>K1</td>\n",
       "    </tr>\n",
       "  </tbody>\n",
       "</table>\n",
       "</div>"
      ],
      "text/plain": [
       "           no. ATM\n",
       "date              \n",
       "2018-03-25      K1\n",
       "2018-03-26      K1\n",
       "2018-03-27      K1\n",
       "2018-03-28      K1\n",
       "2018-03-29      K1"
      ]
     },
     "execution_count": 33,
     "metadata": {},
     "output_type": "execute_result"
    }
   ],
   "source": [
    "test_data = read_csv('dataset/atm_test.csv', delimiter=';', parse_dates=['date'], date_parser=date_parser, index_col='date')\n",
    "test_data.head()"
   ]
  },
  {
   "cell_type": "markdown",
   "metadata": {},
   "source": [
    "## Preprocessing"
   ]
  },
  {
   "cell_type": "code",
   "execution_count": 78,
   "metadata": {},
   "outputs": [],
   "source": [
    "from pandas import DataFrame\n",
    "\n",
    "import os"
   ]
  },
  {
   "cell_type": "markdown",
   "metadata": {},
   "source": [
    "### Preprocess train data"
   ]
  },
  {
   "cell_type": "code",
   "execution_count": 82,
   "metadata": {},
   "outputs": [
    {
     "data": {
      "text/html": [
       "<div>\n",
       "<style scoped>\n",
       "    .dataframe tbody tr th:only-of-type {\n",
       "        vertical-align: middle;\n",
       "    }\n",
       "\n",
       "    .dataframe tbody tr th {\n",
       "        vertical-align: top;\n",
       "    }\n",
       "\n",
       "    .dataframe thead th {\n",
       "        text-align: right;\n",
       "    }\n",
       "</style>\n",
       "<table border=\"1\" class=\"dataframe\">\n",
       "  <thead>\n",
       "    <tr style=\"text-align: right;\">\n",
       "      <th></th>\n",
       "      <th>Balance.Cost</th>\n",
       "      <th>Deliveries</th>\n",
       "      <th>Returns</th>\n",
       "      <th>Withdrawals</th>\n",
       "      <th>no. ATM</th>\n",
       "      <th>saldo awal</th>\n",
       "      <th>uang_idle</th>\n",
       "    </tr>\n",
       "    <tr>\n",
       "      <th>date</th>\n",
       "      <th></th>\n",
       "      <th></th>\n",
       "      <th></th>\n",
       "      <th></th>\n",
       "      <th></th>\n",
       "      <th></th>\n",
       "      <th></th>\n",
       "    </tr>\n",
       "  </thead>\n",
       "  <tbody>\n",
       "    <tr>\n",
       "      <th>2018-01-01</th>\n",
       "      <td>32367</td>\n",
       "      <td>0</td>\n",
       "      <td>0</td>\n",
       "      <td>78700000</td>\n",
       "      <td>1</td>\n",
       "      <td>275600000</td>\n",
       "      <td>45304</td>\n",
       "    </tr>\n",
       "    <tr>\n",
       "      <th>2018-01-02</th>\n",
       "      <td>65392</td>\n",
       "      <td>460000000</td>\n",
       "      <td>146200000</td>\n",
       "      <td>112900000</td>\n",
       "      <td>1</td>\n",
       "      <td>196900000</td>\n",
       "      <td>32367</td>\n",
       "    </tr>\n",
       "    <tr>\n",
       "      <th>2018-01-03</th>\n",
       "      <td>47523</td>\n",
       "      <td>0</td>\n",
       "      <td>0</td>\n",
       "      <td>108700000</td>\n",
       "      <td>1</td>\n",
       "      <td>397800000</td>\n",
       "      <td>65392</td>\n",
       "    </tr>\n",
       "    <tr>\n",
       "      <th>2018-01-04</th>\n",
       "      <td>30970</td>\n",
       "      <td>0</td>\n",
       "      <td>0</td>\n",
       "      <td>100700000</td>\n",
       "      <td>1</td>\n",
       "      <td>289100000</td>\n",
       "      <td>47523</td>\n",
       "    </tr>\n",
       "    <tr>\n",
       "      <th>2018-01-05</th>\n",
       "      <td>62901</td>\n",
       "      <td>460000000</td>\n",
       "      <td>138000000</td>\n",
       "      <td>127750000</td>\n",
       "      <td>1</td>\n",
       "      <td>188400000</td>\n",
       "      <td>30970</td>\n",
       "    </tr>\n",
       "  </tbody>\n",
       "</table>\n",
       "</div>"
      ],
      "text/plain": [
       "            Balance.Cost  Deliveries    Returns  Withdrawals no. ATM  \\\n",
       "date                                                                   \n",
       "2018-01-01         32367           0          0     78700000       1   \n",
       "2018-01-02         65392   460000000  146200000    112900000       1   \n",
       "2018-01-03         47523           0          0    108700000       1   \n",
       "2018-01-04         30970           0          0    100700000       1   \n",
       "2018-01-05         62901   460000000  138000000    127750000       1   \n",
       "\n",
       "            saldo awal  uang_idle  \n",
       "date                               \n",
       "2018-01-01   275600000      45304  \n",
       "2018-01-02   196900000      32367  \n",
       "2018-01-03   397800000      65392  \n",
       "2018-01-04   289100000      47523  \n",
       "2018-01-05   188400000      30970  "
      ]
     },
     "execution_count": 82,
     "metadata": {},
     "output_type": "execute_result"
    }
   ],
   "source": [
    "x_train = train_data[train_data.columns.difference(['currency', 'unplanned_deliveries', 'unplanned_returns', 'Trips', 'deposit', 'X1', 'Pre.Withdrawals', 'Carrier.Cost', 'saldo akhir'])]\n",
    "x_train = x_train.replace('K', '', regex=True)\n",
    "x_train.head()"
   ]
  },
  {
   "cell_type": "markdown",
   "metadata": {},
   "source": [
    "#### Save preprocessed train data as CSV"
   ]
  },
  {
   "cell_type": "code",
   "execution_count": 83,
   "metadata": {},
   "outputs": [],
   "source": [
    "train_data_dir = 'dataset/train/'\n",
    "\n",
    "if not os.path.exists(train_data_dir):\n",
    "    os.makedirs(train_data_dir)"
   ]
  },
  {
   "cell_type": "code",
   "execution_count": 84,
   "metadata": {},
   "outputs": [],
   "source": [
    "atm_numbers = x_train['no. ATM'].unique()\n",
    "\n",
    "x_trains = {}\n",
    "\n",
    "for atm_number in atm_numbers:\n",
    "    x_trains[atm_number] = x_train[x_train['no. ATM'] == str(atm_number)].drop(['no. ATM'], axis=1)\n",
    "    x_trains[atm_number].to_csv(train_data_dir + atm_number + '_train.csv')"
   ]
  },
  {
   "cell_type": "code",
   "execution_count": 85,
   "metadata": {},
   "outputs": [],
   "source": [
    "y_train = train_data['Withdrawals']"
   ]
  },
  {
   "cell_type": "markdown",
   "metadata": {},
   "source": [
    "### Preprocess test data"
   ]
  },
  {
   "cell_type": "code",
   "execution_count": 48,
   "metadata": {},
   "outputs": [
    {
     "data": {
      "text/html": [
       "<div>\n",
       "<style scoped>\n",
       "    .dataframe tbody tr th:only-of-type {\n",
       "        vertical-align: middle;\n",
       "    }\n",
       "\n",
       "    .dataframe tbody tr th {\n",
       "        vertical-align: top;\n",
       "    }\n",
       "\n",
       "    .dataframe thead th {\n",
       "        text-align: right;\n",
       "    }\n",
       "</style>\n",
       "<table border=\"1\" class=\"dataframe\">\n",
       "  <thead>\n",
       "    <tr style=\"text-align: right;\">\n",
       "      <th></th>\n",
       "      <th>no. ATM</th>\n",
       "    </tr>\n",
       "    <tr>\n",
       "      <th>date</th>\n",
       "      <th></th>\n",
       "    </tr>\n",
       "  </thead>\n",
       "  <tbody>\n",
       "    <tr>\n",
       "      <th>2018-03-25</th>\n",
       "      <td>1</td>\n",
       "    </tr>\n",
       "    <tr>\n",
       "      <th>2018-03-26</th>\n",
       "      <td>1</td>\n",
       "    </tr>\n",
       "    <tr>\n",
       "      <th>2018-03-27</th>\n",
       "      <td>1</td>\n",
       "    </tr>\n",
       "    <tr>\n",
       "      <th>2018-03-28</th>\n",
       "      <td>1</td>\n",
       "    </tr>\n",
       "    <tr>\n",
       "      <th>2018-03-29</th>\n",
       "      <td>1</td>\n",
       "    </tr>\n",
       "  </tbody>\n",
       "</table>\n",
       "</div>"
      ],
      "text/plain": [
       "           no. ATM\n",
       "date              \n",
       "2018-03-25       1\n",
       "2018-03-26       1\n",
       "2018-03-27       1\n",
       "2018-03-28       1\n",
       "2018-03-29       1"
      ]
     },
     "execution_count": 48,
     "metadata": {},
     "output_type": "execute_result"
    }
   ],
   "source": [
    "x_test = test_data\n",
    "x_test = x_test.replace('K', '', regex=True)\n",
    "x_test.head()"
   ]
  },
  {
   "cell_type": "markdown",
   "metadata": {},
   "source": [
    "#### Save preprocessed test data as CSV"
   ]
  },
  {
   "cell_type": "code",
   "execution_count": 86,
   "metadata": {},
   "outputs": [],
   "source": [
    "test_data_dir = 'dataset/test/'\n",
    "\n",
    "if not os.path.exists(test_data_dir):\n",
    "    os.makedirs(test_data_dir)"
   ]
  },
  {
   "cell_type": "code",
   "execution_count": 87,
   "metadata": {},
   "outputs": [],
   "source": [
    "x_test.to_csv(test_data_dir + 'test.csv')"
   ]
  }
 ],
 "metadata": {
  "kernelspec": {
   "display_name": "Python 3",
   "language": "python",
   "name": "python3"
  },
  "language_info": {
   "codemirror_mode": {
    "name": "ipython",
    "version": 3
   },
   "file_extension": ".py",
   "mimetype": "text/x-python",
   "name": "python",
   "nbconvert_exporter": "python",
   "pygments_lexer": "ipython3",
   "version": "3.6.6"
  }
 },
 "nbformat": 4,
 "nbformat_minor": 2
}
